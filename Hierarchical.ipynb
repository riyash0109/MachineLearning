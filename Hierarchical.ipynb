{
  "nbformat": 4,
  "nbformat_minor": 0,
  "metadata": {
    "colab": {
      "provenance": [],
      "collapsed_sections": [],
      "authorship_tag": "ABX9TyOaUEp/Nz/kcQDig1r/g6JL",
      "include_colab_link": true
    },
    "kernelspec": {
      "name": "python3",
      "display_name": "Python 3"
    },
    "language_info": {
      "name": "python"
    }
  },
  "cells": [
    {
      "cell_type": "markdown",
      "metadata": {
        "id": "view-in-github",
        "colab_type": "text"
      },
      "source": [
        "<a href=\"https://colab.research.google.com/github/riyash0109/MachineLearning/blob/main/Hierarchical.ipynb\" target=\"_parent\"><img src=\"https://colab.research.google.com/assets/colab-badge.svg\" alt=\"Open In Colab\"/></a>"
      ]
    },
    {
      "cell_type": "code",
      "execution_count": null,
      "metadata": {
        "id": "JGz-XfluRphZ"
      },
      "outputs": [],
      "source": [
        "# Importing the libraries  \n",
        "import numpy as nm  \n",
        "import matplotlib.pyplot as ply  \n",
        "import pandas as pd "
      ]
    },
    {
      "cell_type": "code",
      "source": [
        "#importing dataset\n",
        "data = pd.read_csv(\"/content/indian_airquality2.csv\")"
      ],
      "metadata": {
        "id": "wAN0SA4QR-qS"
      },
      "execution_count": null,
      "outputs": []
    },
    {
      "cell_type": "code",
      "source": [
        "data.head()"
      ],
      "metadata": {
        "colab": {
          "base_uri": "https://localhost:8080/",
          "height": 250
        },
        "id": "lOf_SFycSsvn",
        "outputId": "bc0945fa-685d-4be9-e413-c773f680f44d"
      },
      "execution_count": null,
      "outputs": [
        {
          "output_type": "execute_result",
          "data": {
            "text/plain": [
              "   id country           state       city                         station  \\\n",
              "0   1   India  Andhra_Pradesh  Amaravati  Secretariat, Amaravati - APPCB   \n",
              "1   2   India  Andhra_Pradesh  Amaravati  Secretariat, Amaravati - APPCB   \n",
              "2   3   India  Andhra_Pradesh  Amaravati  Secretariat, Amaravati - APPCB   \n",
              "3   4   India  Andhra_Pradesh  Amaravati  Secretariat, Amaravati - APPCB   \n",
              "4   5   India  Andhra_Pradesh  Amaravati  Secretariat, Amaravati - APPCB   \n",
              "\n",
              "  pollutant_id       last_update  pollutant_min  pollutant_max  pollutant_avg  \n",
              "0        PM2.5  21-10-2021 01:00           69.0          109.0           86.0  \n",
              "1         PM10  21-10-2021 01:00           82.0          138.0          105.0  \n",
              "2          NO2  21-10-2021 01:00           10.0           42.0           19.0  \n",
              "3          NH3  21-10-2021 01:00            4.0            5.0            4.0  \n",
              "4          SO2  21-10-2021 01:00           16.0           42.0           27.0  "
            ],
            "text/html": [
              "\n",
              "  <div id=\"df-cdcd8647-2dd3-4f1c-9025-e6f965c916b5\">\n",
              "    <div class=\"colab-df-container\">\n",
              "      <div>\n",
              "<style scoped>\n",
              "    .dataframe tbody tr th:only-of-type {\n",
              "        vertical-align: middle;\n",
              "    }\n",
              "\n",
              "    .dataframe tbody tr th {\n",
              "        vertical-align: top;\n",
              "    }\n",
              "\n",
              "    .dataframe thead th {\n",
              "        text-align: right;\n",
              "    }\n",
              "</style>\n",
              "<table border=\"1\" class=\"dataframe\">\n",
              "  <thead>\n",
              "    <tr style=\"text-align: right;\">\n",
              "      <th></th>\n",
              "      <th>id</th>\n",
              "      <th>country</th>\n",
              "      <th>state</th>\n",
              "      <th>city</th>\n",
              "      <th>station</th>\n",
              "      <th>pollutant_id</th>\n",
              "      <th>last_update</th>\n",
              "      <th>pollutant_min</th>\n",
              "      <th>pollutant_max</th>\n",
              "      <th>pollutant_avg</th>\n",
              "    </tr>\n",
              "  </thead>\n",
              "  <tbody>\n",
              "    <tr>\n",
              "      <th>0</th>\n",
              "      <td>1</td>\n",
              "      <td>India</td>\n",
              "      <td>Andhra_Pradesh</td>\n",
              "      <td>Amaravati</td>\n",
              "      <td>Secretariat, Amaravati - APPCB</td>\n",
              "      <td>PM2.5</td>\n",
              "      <td>21-10-2021 01:00</td>\n",
              "      <td>69.0</td>\n",
              "      <td>109.0</td>\n",
              "      <td>86.0</td>\n",
              "    </tr>\n",
              "    <tr>\n",
              "      <th>1</th>\n",
              "      <td>2</td>\n",
              "      <td>India</td>\n",
              "      <td>Andhra_Pradesh</td>\n",
              "      <td>Amaravati</td>\n",
              "      <td>Secretariat, Amaravati - APPCB</td>\n",
              "      <td>PM10</td>\n",
              "      <td>21-10-2021 01:00</td>\n",
              "      <td>82.0</td>\n",
              "      <td>138.0</td>\n",
              "      <td>105.0</td>\n",
              "    </tr>\n",
              "    <tr>\n",
              "      <th>2</th>\n",
              "      <td>3</td>\n",
              "      <td>India</td>\n",
              "      <td>Andhra_Pradesh</td>\n",
              "      <td>Amaravati</td>\n",
              "      <td>Secretariat, Amaravati - APPCB</td>\n",
              "      <td>NO2</td>\n",
              "      <td>21-10-2021 01:00</td>\n",
              "      <td>10.0</td>\n",
              "      <td>42.0</td>\n",
              "      <td>19.0</td>\n",
              "    </tr>\n",
              "    <tr>\n",
              "      <th>3</th>\n",
              "      <td>4</td>\n",
              "      <td>India</td>\n",
              "      <td>Andhra_Pradesh</td>\n",
              "      <td>Amaravati</td>\n",
              "      <td>Secretariat, Amaravati - APPCB</td>\n",
              "      <td>NH3</td>\n",
              "      <td>21-10-2021 01:00</td>\n",
              "      <td>4.0</td>\n",
              "      <td>5.0</td>\n",
              "      <td>4.0</td>\n",
              "    </tr>\n",
              "    <tr>\n",
              "      <th>4</th>\n",
              "      <td>5</td>\n",
              "      <td>India</td>\n",
              "      <td>Andhra_Pradesh</td>\n",
              "      <td>Amaravati</td>\n",
              "      <td>Secretariat, Amaravati - APPCB</td>\n",
              "      <td>SO2</td>\n",
              "      <td>21-10-2021 01:00</td>\n",
              "      <td>16.0</td>\n",
              "      <td>42.0</td>\n",
              "      <td>27.0</td>\n",
              "    </tr>\n",
              "  </tbody>\n",
              "</table>\n",
              "</div>\n",
              "      <button class=\"colab-df-convert\" onclick=\"convertToInteractive('df-cdcd8647-2dd3-4f1c-9025-e6f965c916b5')\"\n",
              "              title=\"Convert this dataframe to an interactive table.\"\n",
              "              style=\"display:none;\">\n",
              "        \n",
              "  <svg xmlns=\"http://www.w3.org/2000/svg\" height=\"24px\"viewBox=\"0 0 24 24\"\n",
              "       width=\"24px\">\n",
              "    <path d=\"M0 0h24v24H0V0z\" fill=\"none\"/>\n",
              "    <path d=\"M18.56 5.44l.94 2.06.94-2.06 2.06-.94-2.06-.94-.94-2.06-.94 2.06-2.06.94zm-11 1L8.5 8.5l.94-2.06 2.06-.94-2.06-.94L8.5 2.5l-.94 2.06-2.06.94zm10 10l.94 2.06.94-2.06 2.06-.94-2.06-.94-.94-2.06-.94 2.06-2.06.94z\"/><path d=\"M17.41 7.96l-1.37-1.37c-.4-.4-.92-.59-1.43-.59-.52 0-1.04.2-1.43.59L10.3 9.45l-7.72 7.72c-.78.78-.78 2.05 0 2.83L4 21.41c.39.39.9.59 1.41.59.51 0 1.02-.2 1.41-.59l7.78-7.78 2.81-2.81c.8-.78.8-2.07 0-2.86zM5.41 20L4 18.59l7.72-7.72 1.47 1.35L5.41 20z\"/>\n",
              "  </svg>\n",
              "      </button>\n",
              "      \n",
              "  <style>\n",
              "    .colab-df-container {\n",
              "      display:flex;\n",
              "      flex-wrap:wrap;\n",
              "      gap: 12px;\n",
              "    }\n",
              "\n",
              "    .colab-df-convert {\n",
              "      background-color: #E8F0FE;\n",
              "      border: none;\n",
              "      border-radius: 50%;\n",
              "      cursor: pointer;\n",
              "      display: none;\n",
              "      fill: #1967D2;\n",
              "      height: 32px;\n",
              "      padding: 0 0 0 0;\n",
              "      width: 32px;\n",
              "    }\n",
              "\n",
              "    .colab-df-convert:hover {\n",
              "      background-color: #E2EBFA;\n",
              "      box-shadow: 0px 1px 2px rgba(60, 64, 67, 0.3), 0px 1px 3px 1px rgba(60, 64, 67, 0.15);\n",
              "      fill: #174EA6;\n",
              "    }\n",
              "\n",
              "    [theme=dark] .colab-df-convert {\n",
              "      background-color: #3B4455;\n",
              "      fill: #D2E3FC;\n",
              "    }\n",
              "\n",
              "    [theme=dark] .colab-df-convert:hover {\n",
              "      background-color: #434B5C;\n",
              "      box-shadow: 0px 1px 3px 1px rgba(0, 0, 0, 0.15);\n",
              "      filter: drop-shadow(0px 1px 2px rgba(0, 0, 0, 0.3));\n",
              "      fill: #FFFFFF;\n",
              "    }\n",
              "  </style>\n",
              "\n",
              "      <script>\n",
              "        const buttonEl =\n",
              "          document.querySelector('#df-cdcd8647-2dd3-4f1c-9025-e6f965c916b5 button.colab-df-convert');\n",
              "        buttonEl.style.display =\n",
              "          google.colab.kernel.accessAllowed ? 'block' : 'none';\n",
              "\n",
              "        async function convertToInteractive(key) {\n",
              "          const element = document.querySelector('#df-cdcd8647-2dd3-4f1c-9025-e6f965c916b5');\n",
              "          const dataTable =\n",
              "            await google.colab.kernel.invokeFunction('convertToInteractive',\n",
              "                                                     [key], {});\n",
              "          if (!dataTable) return;\n",
              "\n",
              "          const docLinkHtml = 'Like what you see? Visit the ' +\n",
              "            '<a target=\"_blank\" href=https://colab.research.google.com/notebooks/data_table.ipynb>data table notebook</a>'\n",
              "            + ' to learn more about interactive tables.';\n",
              "          element.innerHTML = '';\n",
              "          dataTable['output_type'] = 'display_data';\n",
              "          await google.colab.output.renderOutput(dataTable, element);\n",
              "          const docLink = document.createElement('div');\n",
              "          docLink.innerHTML = docLinkHtml;\n",
              "          element.appendChild(docLink);\n",
              "        }\n",
              "      </script>\n",
              "    </div>\n",
              "  </div>\n",
              "  "
            ]
          },
          "metadata": {},
          "execution_count": 3
        }
      ]
    },
    {
      "cell_type": "code",
      "source": [
        "df = data.dropna()"
      ],
      "metadata": {
        "id": "91i-vONrT6OM"
      },
      "execution_count": null,
      "outputs": []
    },
    {
      "cell_type": "code",
      "source": [
        "x = df.loc[:,['pollutant_min','pollutant_max']].values"
      ],
      "metadata": {
        "id": "mmT78C0nR-vI"
      },
      "execution_count": null,
      "outputs": []
    },
    {
      "cell_type": "code",
      "source": [
        "print(x)"
      ],
      "metadata": {
        "colab": {
          "base_uri": "https://localhost:8080/"
        },
        "id": "O55R2zsUR-w6",
        "outputId": "8e89c669-20ba-4847-e0cb-27bb54bdbdfb"
      },
      "execution_count": null,
      "outputs": [
        {
          "output_type": "stream",
          "name": "stdout",
          "text": [
            "[[ 69. 109.]\n",
            " [ 82. 138.]\n",
            " [ 10.  42.]\n",
            " ...\n",
            " [  6.  28.]\n",
            " [ 34.  92.]\n",
            " [ 10. 116.]]\n"
          ]
        }
      ]
    },
    {
      "cell_type": "code",
      "source": [
        "import scipy.cluster.hierarchy as sch\n",
        "dendo = sch.dendrogram(sch.linkage(x, method = 'ward'))\n",
        "\n",
        "ply.title(\"Dendrogram Plot\")\n",
        "ply.ylabel(\"Euclidean Distances\")\n",
        "ply.xlabel(\"pollutants\")\n",
        "ply.show()"
      ],
      "metadata": {
        "colab": {
          "base_uri": "https://localhost:8080/",
          "height": 298
        },
        "id": "rahKgvnwR-z-",
        "outputId": "3157e427-b429-4877-f285-c133113a5223"
      },
      "execution_count": null,
      "outputs": [
        {
          "output_type": "display_data",
          "data": {
            "text/plain": [
              "<Figure size 432x288 with 1 Axes>"
            ],
            "image/png": "[encoded data removed]"
          },
          "metadata": {
            "needs_background": "light"
          }
        }
      ]
    },
    {
      "cell_type": "markdown",
      "source": [
        "In the above diagram, we see that the vertical distances that are not cutting their horizontal bars. According to this, the number of clusters will be 6(the vertical lines in this range).\n",
        "\n",
        "So, the optimal number of clusters will be 6, and we will train the model in the next step, using the same."
      ],
      "metadata": {
        "id": "_Z8C4dWDUZOT"
      }
    },
    {
      "cell_type": "code",
      "source": [
        "from scipy.spatial.distance import euclidean\n",
        "#training the hierarchical model on dataset\n",
        "from sklearn.cluster import AgglomerativeClustering\n",
        "\n",
        "hc = AgglomerativeClustering(n_clusters= 2, affinity=\"euclidean\", linkage = \"ward\")"
      ],
      "metadata": {
        "id": "xlYIPjQAR-1p"
      },
      "execution_count": null,
      "outputs": []
    },
    {
      "cell_type": "code",
      "source": [
        "y_pred =  hc.fit_predict(x)"
      ],
      "metadata": {
        "id": "x_FxYE3xR-4x"
      },
      "execution_count": null,
      "outputs": []
    },
    {
      "cell_type": "markdown",
      "source": [
        "The AgglomerativeClustering class takes the following parameters:\n",
        "\n",
        "n_clusters=2: It defines the number of clusters, and we have taken here 2 because it is the optimal number of clusters.\n",
        "\n",
        "affinity='euclidean': It is a metric used to compute the linkage.\n",
        "\n",
        "linkage='ward': It defines the linkage criteria, here we have used the \"ward\" linkage. This method is the popular linkage method that we have already used for creating the Dendrogram. It reduces the variance in each cluster.\n",
        "\n",
        "In the last line, we have created the dependent variable y_pred to fit or train the model. It does train not only the model but also returns the clusters to which each data point belongs.\n"
      ],
      "metadata": {
        "id": "HZmcxB6HUsTw"
      }
    },
    {
      "cell_type": "code",
      "source": [
        "print(y_pred)"
      ],
      "metadata": {
        "colab": {
          "base_uri": "https://localhost:8080/"
        },
        "id": "ZaN8DICMR-6o",
        "outputId": "a504f4e1-0dd3-470a-cfb6-863c707cba84"
      },
      "execution_count": null,
      "outputs": [
        {
          "output_type": "stream",
          "name": "stdout",
          "text": [
            "[0 0 0 ... 0 0 0]\n"
          ]
        }
      ]
    },
    {
      "cell_type": "markdown",
      "source": [
        "."
      ],
      "metadata": {
        "id": "Kqz7HztaU1BO"
      }
    },
    {
      "cell_type": "code",
      "source": [
        "#visulaizing the clusters  \n",
        "ply.scatter(x[y_pred == 0, 0], x[y_pred == 0, 1], s = 100, c = 'blue', label = 'Cluster 1')  \n",
        "ply.scatter(x[y_pred == 1, 0], x[y_pred == 1, 1], s = 100, c = 'green', label = 'Cluster 2')  \n",
        "# ply.scatter(x[y_pred== 2, 0], x[y_pred == 2, 1], s = 100, c = 'red', label = 'Cluster 3')  \n",
        "ply.title('Clusters of pollutants')  \n",
        "ply.xlabel('Pollutants')  \n",
        "ply.ylabel('')  \n",
        "ply.legend()  \n",
        "ply.show()  "
      ],
      "metadata": {
        "colab": {
          "base_uri": "https://localhost:8080/",
          "height": 295
        },
        "id": "Ql2lgGfkR-9q",
        "outputId": "8cc3608f-47c2-498c-9856-1caf4203d931"
      },
      "execution_count": null,
      "outputs": [
        {
          "output_type": "display_data",
          "data": {
            "text/plain": [
              "<Figure size 432x288 with 1 Axes>"
            ],
            "image/png": "[encoded data removed]"
          },
          "metadata": {
            "needs_background": "light"
          }
        }
      ]
    },
    {
      "cell_type": "markdown",
      "source": [
        "Hierarchical Clustering over k-Mean Clustering\n",
        "\n",
        "Advantages\n",
        "• Hierarchical clustering outputs a hierarchy, ie a structure that is more informative than the unstructured set of flat clusters returned by k-means. Therefore, it is easier to decide on the number of clusters by looking at the dendrogram\n",
        "\n",
        "Disavantages\n",
        "• It is not possible to undo the previous step: once the instances have been assigned to a cluster, they can no longer be moved around.\n",
        "• Time complexity: not suitable for large datasets\n",
        "• Initial seeds have a strong impact on the final results\n",
        "• The order of the data has an impact on the final results\n",
        "• Very sensitive to outliers"
      ],
      "metadata": {
        "id": "AkR3eubRVXs3"
      }
    },
    {
      "cell_type": "code",
      "source": [],
      "metadata": {
        "id": "lLQSAfeKR_ND"
      },
      "execution_count": null,
      "outputs": []
    }
  ]
}