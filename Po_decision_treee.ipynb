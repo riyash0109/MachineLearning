{
  "nbformat": 4,
  "nbformat_minor": 0,
  "metadata": {
    "colab": {
      "provenance": [],
      "include_colab_link": true
    },
    "kernelspec": {
      "name": "python3",
      "display_name": "Python 3"
    },
    "language_info": {
      "name": "python"
    }
  },
  "cells": [
    {
      "cell_type": "markdown",
      "metadata": {
        "id": "view-in-github",
        "colab_type": "text"
      },
      "source": [
        "<a href=\"https://colab.research.google.com/github/riyash0109/MachineLearning/blob/main/Po_decision_treee.ipynb\" target=\"_parent\"><img src=\"https://colab.research.google.com/assets/colab-badge.svg\" alt=\"Open In Colab\"/></a>"
      ]
    },
    {
      "cell_type": "code",
      "execution_count": null,
      "metadata": {
        "id": "XrqadK8xEpHG"
      },
      "outputs": [],
      "source": [
        "import pandas as pd\n",
        "import numpy as np\n",
        "import seaborn as sns\n",
        "import matplotlib.pyplot as plt\n",
        "#importing libraries"
      ]
    },
    {
      "cell_type": "code",
      "source": [
        "df = pd.read_csv(\"/content/indian_airquality2.csv\")\n",
        "#importing dataset"
      ],
      "metadata": {
        "id": "iA-hfF51EpxL"
      },
      "execution_count": null,
      "outputs": []
    },
    {
      "cell_type": "code",
      "source": [
        "df.head()\n",
        "#printing the head of the dataset"
      ],
      "metadata": {
        "colab": {
          "base_uri": "https://localhost:8080/",
          "height": 424
        },
        "id": "3GAxwM9YEpyq",
        "outputId": "be059a54-60f6-48d3-8873-544a504d5c62"
      },
      "execution_count": null,
      "outputs": [
        {
          "output_type": "execute_result",
          "data": {
            "text/plain": [
              "   id country           state       city                         station  \\\n",
              "0   1   India  Andhra_Pradesh  Amaravati  Secretariat, Amaravati - APPCB   \n",
              "1   2   India  Andhra_Pradesh  Amaravati  Secretariat, Amaravati - APPCB   \n",
              "2   3   India  Andhra_Pradesh  Amaravati  Secretariat, Amaravati - APPCB   \n",
              "3   4   India  Andhra_Pradesh  Amaravati  Secretariat, Amaravati - APPCB   \n",
              "4   5   India  Andhra_Pradesh  Amaravati  Secretariat, Amaravati - APPCB   \n",
              "\n",
              "  pollutant_id       last_update  pollutant_min  pollutant_max  pollutant_avg  \n",
              "0        PM2.5  21-10-2021 01:00           69.0          109.0           86.0  \n",
              "1         PM10  21-10-2021 01:00           82.0          138.0          105.0  \n",
              "2          NO2  21-10-2021 01:00           10.0           42.0           19.0  \n",
              "3          NH3  21-10-2021 01:00            4.0            5.0            4.0  \n",
              "4          SO2  21-10-2021 01:00           16.0           42.0           27.0  "
            ],
            "text/html": [
              "\n",
              "  <div id=\"df-e01fe905-3e18-4683-9240-f16641de9858\">\n",
              "    <div class=\"colab-df-container\">\n",
              "      <div>\n",
              "<style scoped>\n",
              "    .dataframe tbody tr th:only-of-type {\n",
              "        vertical-align: middle;\n",
              "    }\n",
              "\n",
              "    .dataframe tbody tr th {\n",
              "        vertical-align: top;\n",
              "    }\n",
              "\n",
              "    .dataframe thead th {\n",
              "        text-align: right;\n",
              "    }\n",
              "</style>\n",
              "<table border=\"1\" class=\"dataframe\">\n",
              "  <thead>\n",
              "    <tr style=\"text-align: right;\">\n",
              "      <th></th>\n",
              "      <th>id</th>\n",
              "      <th>country</th>\n",
              "      <th>state</th>\n",
              "      <th>city</th>\n",
              "      <th>station</th>\n",
              "      <th>pollutant_id</th>\n",
              "      <th>last_update</th>\n",
              "      <th>pollutant_min</th>\n",
              "      <th>pollutant_max</th>\n",
              "      <th>pollutant_avg</th>\n",
              "    </tr>\n",
              "  </thead>\n",
              "  <tbody>\n",
              "    <tr>\n",
              "      <th>0</th>\n",
              "      <td>1</td>\n",
              "      <td>India</td>\n",
              "      <td>Andhra_Pradesh</td>\n",
              "      <td>Amaravati</td>\n",
              "      <td>Secretariat, Amaravati - APPCB</td>\n",
              "      <td>PM2.5</td>\n",
              "      <td>21-10-2021 01:00</td>\n",
              "      <td>69.0</td>\n",
              "      <td>109.0</td>\n",
              "      <td>86.0</td>\n",
              "    </tr>\n",
              "    <tr>\n",
              "      <th>1</th>\n",
              "      <td>2</td>\n",
              "      <td>India</td>\n",
              "      <td>Andhra_Pradesh</td>\n",
              "      <td>Amaravati</td>\n",
              "      <td>Secretariat, Amaravati - APPCB</td>\n",
              "      <td>PM10</td>\n",
              "      <td>21-10-2021 01:00</td>\n",
              "      <td>82.0</td>\n",
              "      <td>138.0</td>\n",
              "      <td>105.0</td>\n",
              "    </tr>\n",
              "    <tr>\n",
              "      <th>2</th>\n",
              "      <td>3</td>\n",
              "      <td>India</td>\n",
              "      <td>Andhra_Pradesh</td>\n",
              "      <td>Amaravati</td>\n",
              "      <td>Secretariat, Amaravati - APPCB</td>\n",
              "      <td>NO2</td>\n",
              "      <td>21-10-2021 01:00</td>\n",
              "      <td>10.0</td>\n",
              "      <td>42.0</td>\n",
              "      <td>19.0</td>\n",
              "    </tr>\n",
              "    <tr>\n",
              "      <th>3</th>\n",
              "      <td>4</td>\n",
              "      <td>India</td>\n",
              "      <td>Andhra_Pradesh</td>\n",
              "      <td>Amaravati</td>\n",
              "      <td>Secretariat, Amaravati - APPCB</td>\n",
              "      <td>NH3</td>\n",
              "      <td>21-10-2021 01:00</td>\n",
              "      <td>4.0</td>\n",
              "      <td>5.0</td>\n",
              "      <td>4.0</td>\n",
              "    </tr>\n",
              "    <tr>\n",
              "      <th>4</th>\n",
              "      <td>5</td>\n",
              "      <td>India</td>\n",
              "      <td>Andhra_Pradesh</td>\n",
              "      <td>Amaravati</td>\n",
              "      <td>Secretariat, Amaravati - APPCB</td>\n",
              "      <td>SO2</td>\n",
              "      <td>21-10-2021 01:00</td>\n",
              "      <td>16.0</td>\n",
              "      <td>42.0</td>\n",
              "      <td>27.0</td>\n",
              "    </tr>\n",
              "  </tbody>\n",
              "</table>\n",
              "</div>\n",
              "      <button class=\"colab-df-convert\" onclick=\"convertToInteractive('df-e01fe905-3e18-4683-9240-f16641de9858')\"\n",
              "              title=\"Convert this dataframe to an interactive table.\"\n",
              "              style=\"display:none;\">\n",
              "        \n",
              "  <svg xmlns=\"http://www.w3.org/2000/svg\" height=\"24px\"viewBox=\"0 0 24 24\"\n",
              "       width=\"24px\">\n",
              "    <path d=\"M0 0h24v24H0V0z\" fill=\"none\"/>\n",
              "    <path d=\"M18.56 5.44l.94 2.06.94-2.06 2.06-.94-2.06-.94-.94-2.06-.94 2.06-2.06.94zm-11 1L8.5 8.5l.94-2.06 2.06-.94-2.06-.94L8.5 2.5l-.94 2.06-2.06.94zm10 10l.94 2.06.94-2.06 2.06-.94-2.06-.94-.94-2.06-.94 2.06-2.06.94z\"/><path d=\"M17.41 7.96l-1.37-1.37c-.4-.4-.92-.59-1.43-.59-.52 0-1.04.2-1.43.59L10.3 9.45l-7.72 7.72c-.78.78-.78 2.05 0 2.83L4 21.41c.39.39.9.59 1.41.59.51 0 1.02-.2 1.41-.59l7.78-7.78 2.81-2.81c.8-.78.8-2.07 0-2.86zM5.41 20L4 18.59l7.72-7.72 1.47 1.35L5.41 20z\"/>\n",
              "  </svg>\n",
              "      </button>\n",
              "      \n",
              "  <style>\n",
              "    .colab-df-container {\n",
              "      display:flex;\n",
              "      flex-wrap:wrap;\n",
              "      gap: 12px;\n",
              "    }\n",
              "\n",
              "    .colab-df-convert {\n",
              "      background-color: #E8F0FE;\n",
              "      border: none;\n",
              "      border-radius: 50%;\n",
              "      cursor: pointer;\n",
              "      display: none;\n",
              "      fill: #1967D2;\n",
              "      height: 32px;\n",
              "      padding: 0 0 0 0;\n",
              "      width: 32px;\n",
              "    }\n",
              "\n",
              "    .colab-df-convert:hover {\n",
              "      background-color: #E2EBFA;\n",
              "      box-shadow: 0px 1px 2px rgba(60, 64, 67, 0.3), 0px 1px 3px 1px rgba(60, 64, 67, 0.15);\n",
              "      fill: #174EA6;\n",
              "    }\n",
              "\n",
              "    [theme=dark] .colab-df-convert {\n",
              "      background-color: #3B4455;\n",
              "      fill: #D2E3FC;\n",
              "    }\n",
              "\n",
              "    [theme=dark] .colab-df-convert:hover {\n",
              "      background-color: #434B5C;\n",
              "      box-shadow: 0px 1px 3px 1px rgba(0, 0, 0, 0.15);\n",
              "      filter: drop-shadow(0px 1px 2px rgba(0, 0, 0, 0.3));\n",
              "      fill: #FFFFFF;\n",
              "    }\n",
              "  </style>\n",
              "\n",
              "      <script>\n",
              "        const buttonEl =\n",
              "          document.querySelector('#df-e01fe905-3e18-4683-9240-f16641de9858 button.colab-df-convert');\n",
              "        buttonEl.style.display =\n",
              "          google.colab.kernel.accessAllowed ? 'block' : 'none';\n",
              "\n",
              "        async function convertToInteractive(key) {\n",
              "          const element = document.querySelector('#df-e01fe905-3e18-4683-9240-f16641de9858');\n",
              "          const dataTable =\n",
              "            await google.colab.kernel.invokeFunction('convertToInteractive',\n",
              "                                                     [key], {});\n",
              "          if (!dataTable) return;\n",
              "\n",
              "          const docLinkHtml = 'Like what you see? Visit the ' +\n",
              "            '<a target=\"_blank\" href=https://colab.research.google.com/notebooks/data_table.ipynb>data table notebook</a>'\n",
              "            + ' to learn more about interactive tables.';\n",
              "          element.innerHTML = '';\n",
              "          dataTable['output_type'] = 'display_data';\n",
              "          await google.colab.output.renderOutput(dataTable, element);\n",
              "          const docLink = document.createElement('div');\n",
              "          docLink.innerHTML = docLinkHtml;\n",
              "          element.appendChild(docLink);\n",
              "        }\n",
              "      </script>\n",
              "    </div>\n",
              "  </div>\n",
              "  "
            ]
          },
          "metadata": {},
          "execution_count": 27
        }
      ]
    },
    {
      "cell_type": "code",
      "source": [
        "df[\"pollutant_avg\"].mean()\n",
        "#finding mean of the pollutant_avg column"
      ],
      "metadata": {
        "colab": {
          "base_uri": "https://localhost:8080/"
        },
        "id": "aN0Uu0ECEp1p",
        "outputId": "079f925c-a8ae-4f4d-f8e4-3f67961d7f7e"
      },
      "execution_count": null,
      "outputs": [
        {
          "output_type": "execute_result",
          "data": {
            "text/plain": [
              "54.10069044879172"
            ]
          },
          "metadata": {},
          "execution_count": 28
        }
      ]
    },
    {
      "cell_type": "code",
      "source": [
        "def categorise(row):  \n",
        "    if row['pollutant_avg'] > 54:\n",
        "        return 1\n",
        "    else :\n",
        "        return 0\n",
        "\n",
        "df['lable'] = df.apply(lambda row: categorise(row), axis=1)\n",
        "#making a new column names as lable which will be my class lable"
      ],
      "metadata": {
        "id": "yLhjISBJEp3a"
      },
      "execution_count": null,
      "outputs": []
    },
    {
      "cell_type": "code",
      "source": [
        "df.head()"
      ],
      "metadata": {
        "colab": {
          "base_uri": "https://localhost:8080/",
          "height": 444
        },
        "id": "4QUaSB9aEp6U",
        "outputId": "850affe6-77f4-4220-c4c2-c9867d8a6d9b"
      },
      "execution_count": null,
      "outputs": [
        {
          "output_type": "execute_result",
          "data": {
            "text/plain": [
              "   id country           state       city                         station  \\\n",
              "0   1   India  Andhra_Pradesh  Amaravati  Secretariat, Amaravati - APPCB   \n",
              "1   2   India  Andhra_Pradesh  Amaravati  Secretariat, Amaravati - APPCB   \n",
              "2   3   India  Andhra_Pradesh  Amaravati  Secretariat, Amaravati - APPCB   \n",
              "3   4   India  Andhra_Pradesh  Amaravati  Secretariat, Amaravati - APPCB   \n",
              "4   5   India  Andhra_Pradesh  Amaravati  Secretariat, Amaravati - APPCB   \n",
              "\n",
              "  pollutant_id       last_update  pollutant_min  pollutant_max  pollutant_avg  \\\n",
              "0        PM2.5  21-10-2021 01:00           69.0          109.0           86.0   \n",
              "1         PM10  21-10-2021 01:00           82.0          138.0          105.0   \n",
              "2          NO2  21-10-2021 01:00           10.0           42.0           19.0   \n",
              "3          NH3  21-10-2021 01:00            4.0            5.0            4.0   \n",
              "4          SO2  21-10-2021 01:00           16.0           42.0           27.0   \n",
              "\n",
              "   lable  \n",
              "0      1  \n",
              "1      1  \n",
              "2      0  \n",
              "3      0  \n",
              "4      0  "
            ],
            "text/html": [
              "\n",
              "  <div id=\"df-45ed71ab-2ae6-4eca-a0fe-dd2cdad80f0f\">\n",
              "    <div class=\"colab-df-container\">\n",
              "      <div>\n",
              "<style scoped>\n",
              "    .dataframe tbody tr th:only-of-type {\n",
              "        vertical-align: middle;\n",
              "    }\n",
              "\n",
              "    .dataframe tbody tr th {\n",
              "        vertical-align: top;\n",
              "    }\n",
              "\n",
              "    .dataframe thead th {\n",
              "        text-align: right;\n",
              "    }\n",
              "</style>\n",
              "<table border=\"1\" class=\"dataframe\">\n",
              "  <thead>\n",
              "    <tr style=\"text-align: right;\">\n",
              "      <th></th>\n",
              "      <th>id</th>\n",
              "      <th>country</th>\n",
              "      <th>state</th>\n",
              "      <th>city</th>\n",
              "      <th>station</th>\n",
              "      <th>pollutant_id</th>\n",
              "      <th>last_update</th>\n",
              "      <th>pollutant_min</th>\n",
              "      <th>pollutant_max</th>\n",
              "      <th>pollutant_avg</th>\n",
              "      <th>lable</th>\n",
              "    </tr>\n",
              "  </thead>\n",
              "  <tbody>\n",
              "    <tr>\n",
              "      <th>0</th>\n",
              "      <td>1</td>\n",
              "      <td>India</td>\n",
              "      <td>Andhra_Pradesh</td>\n",
              "      <td>Amaravati</td>\n",
              "      <td>Secretariat, Amaravati - APPCB</td>\n",
              "      <td>PM2.5</td>\n",
              "      <td>21-10-2021 01:00</td>\n",
              "      <td>69.0</td>\n",
              "      <td>109.0</td>\n",
              "      <td>86.0</td>\n",
              "      <td>1</td>\n",
              "    </tr>\n",
              "    <tr>\n",
              "      <th>1</th>\n",
              "      <td>2</td>\n",
              "      <td>India</td>\n",
              "      <td>Andhra_Pradesh</td>\n",
              "      <td>Amaravati</td>\n",
              "      <td>Secretariat, Amaravati - APPCB</td>\n",
              "      <td>PM10</td>\n",
              "      <td>21-10-2021 01:00</td>\n",
              "      <td>82.0</td>\n",
              "      <td>138.0</td>\n",
              "      <td>105.0</td>\n",
              "      <td>1</td>\n",
              "    </tr>\n",
              "    <tr>\n",
              "      <th>2</th>\n",
              "      <td>3</td>\n",
              "      <td>India</td>\n",
              "      <td>Andhra_Pradesh</td>\n",
              "      <td>Amaravati</td>\n",
              "      <td>Secretariat, Amaravati - APPCB</td>\n",
              "      <td>NO2</td>\n",
              "      <td>21-10-2021 01:00</td>\n",
              "      <td>10.0</td>\n",
              "      <td>42.0</td>\n",
              "      <td>19.0</td>\n",
              "      <td>0</td>\n",
              "    </tr>\n",
              "    <tr>\n",
              "      <th>3</th>\n",
              "      <td>4</td>\n",
              "      <td>India</td>\n",
              "      <td>Andhra_Pradesh</td>\n",
              "      <td>Amaravati</td>\n",
              "      <td>Secretariat, Amaravati - APPCB</td>\n",
              "      <td>NH3</td>\n",
              "      <td>21-10-2021 01:00</td>\n",
              "      <td>4.0</td>\n",
              "      <td>5.0</td>\n",
              "      <td>4.0</td>\n",
              "      <td>0</td>\n",
              "    </tr>\n",
              "    <tr>\n",
              "      <th>4</th>\n",
              "      <td>5</td>\n",
              "      <td>India</td>\n",
              "      <td>Andhra_Pradesh</td>\n",
              "      <td>Amaravati</td>\n",
              "      <td>Secretariat, Amaravati - APPCB</td>\n",
              "      <td>SO2</td>\n",
              "      <td>21-10-2021 01:00</td>\n",
              "      <td>16.0</td>\n",
              "      <td>42.0</td>\n",
              "      <td>27.0</td>\n",
              "      <td>0</td>\n",
              "    </tr>\n",
              "  </tbody>\n",
              "</table>\n",
              "</div>\n",
              "      <button class=\"colab-df-convert\" onclick=\"convertToInteractive('df-45ed71ab-2ae6-4eca-a0fe-dd2cdad80f0f')\"\n",
              "              title=\"Convert this dataframe to an interactive table.\"\n",
              "              style=\"display:none;\">\n",
              "        \n",
              "  <svg xmlns=\"http://www.w3.org/2000/svg\" height=\"24px\"viewBox=\"0 0 24 24\"\n",
              "       width=\"24px\">\n",
              "    <path d=\"M0 0h24v24H0V0z\" fill=\"none\"/>\n",
              "    <path d=\"M18.56 5.44l.94 2.06.94-2.06 2.06-.94-2.06-.94-.94-2.06-.94 2.06-2.06.94zm-11 1L8.5 8.5l.94-2.06 2.06-.94-2.06-.94L8.5 2.5l-.94 2.06-2.06.94zm10 10l.94 2.06.94-2.06 2.06-.94-2.06-.94-.94-2.06-.94 2.06-2.06.94z\"/><path d=\"M17.41 7.96l-1.37-1.37c-.4-.4-.92-.59-1.43-.59-.52 0-1.04.2-1.43.59L10.3 9.45l-7.72 7.72c-.78.78-.78 2.05 0 2.83L4 21.41c.39.39.9.59 1.41.59.51 0 1.02-.2 1.41-.59l7.78-7.78 2.81-2.81c.8-.78.8-2.07 0-2.86zM5.41 20L4 18.59l7.72-7.72 1.47 1.35L5.41 20z\"/>\n",
              "  </svg>\n",
              "      </button>\n",
              "      \n",
              "  <style>\n",
              "    .colab-df-container {\n",
              "      display:flex;\n",
              "      flex-wrap:wrap;\n",
              "      gap: 12px;\n",
              "    }\n",
              "\n",
              "    .colab-df-convert {\n",
              "      background-color: #E8F0FE;\n",
              "      border: none;\n",
              "      border-radius: 50%;\n",
              "      cursor: pointer;\n",
              "      display: none;\n",
              "      fill: #1967D2;\n",
              "      height: 32px;\n",
              "      padding: 0 0 0 0;\n",
              "      width: 32px;\n",
              "    }\n",
              "\n",
              "    .colab-df-convert:hover {\n",
              "      background-color: #E2EBFA;\n",
              "      box-shadow: 0px 1px 2px rgba(60, 64, 67, 0.3), 0px 1px 3px 1px rgba(60, 64, 67, 0.15);\n",
              "      fill: #174EA6;\n",
              "    }\n",
              "\n",
              "    [theme=dark] .colab-df-convert {\n",
              "      background-color: #3B4455;\n",
              "      fill: #D2E3FC;\n",
              "    }\n",
              "\n",
              "    [theme=dark] .colab-df-convert:hover {\n",
              "      background-color: #434B5C;\n",
              "      box-shadow: 0px 1px 3px 1px rgba(0, 0, 0, 0.15);\n",
              "      filter: drop-shadow(0px 1px 2px rgba(0, 0, 0, 0.3));\n",
              "      fill: #FFFFFF;\n",
              "    }\n",
              "  </style>\n",
              "\n",
              "      <script>\n",
              "        const buttonEl =\n",
              "          document.querySelector('#df-45ed71ab-2ae6-4eca-a0fe-dd2cdad80f0f button.colab-df-convert');\n",
              "        buttonEl.style.display =\n",
              "          google.colab.kernel.accessAllowed ? 'block' : 'none';\n",
              "\n",
              "        async function convertToInteractive(key) {\n",
              "          const element = document.querySelector('#df-45ed71ab-2ae6-4eca-a0fe-dd2cdad80f0f');\n",
              "          const dataTable =\n",
              "            await google.colab.kernel.invokeFunction('convertToInteractive',\n",
              "                                                     [key], {});\n",
              "          if (!dataTable) return;\n",
              "\n",
              "          const docLinkHtml = 'Like what you see? Visit the ' +\n",
              "            '<a target=\"_blank\" href=https://colab.research.google.com/notebooks/data_table.ipynb>data table notebook</a>'\n",
              "            + ' to learn more about interactive tables.';\n",
              "          element.innerHTML = '';\n",
              "          dataTable['output_type'] = 'display_data';\n",
              "          await google.colab.output.renderOutput(dataTable, element);\n",
              "          const docLink = document.createElement('div');\n",
              "          docLink.innerHTML = docLinkHtml;\n",
              "          element.appendChild(docLink);\n",
              "        }\n",
              "      </script>\n",
              "    </div>\n",
              "  </div>\n",
              "  "
            ]
          },
          "metadata": {},
          "execution_count": 30
        }
      ]
    },
    {
      "cell_type": "code",
      "source": [
        "from sklearn.preprocessing import StandardScaler\n",
        "#importing sklearn library\n",
        "scaler = StandardScaler()\n",
        "#calling the function standardscaler"
      ],
      "metadata": {
        "id": "MZg9P8p6Ep77"
      },
      "execution_count": null,
      "outputs": []
    },
    {
      "cell_type": "code",
      "source": [
        "df2 = df.drop(['id','last_update','station','city','country','pollutant_min','pollutant_max','pollutant_avg'], axis=1)\n",
        "#dropping the column which won't be used\n",
        "df2"
      ],
      "metadata": {
        "colab": {
          "base_uri": "https://localhost:8080/",
          "height": 424
        },
        "id": "rrJK1iQbFRry",
        "outputId": "59003c93-be27-430b-f5a0-22289e213830"
      },
      "execution_count": null,
      "outputs": [
        {
          "output_type": "execute_result",
          "data": {
            "text/plain": [
              "               state pollutant_id  lable\n",
              "0     Andhra_Pradesh        PM2.5      1\n",
              "1     Andhra_Pradesh         PM10      1\n",
              "2     Andhra_Pradesh          NO2      0\n",
              "3     Andhra_Pradesh          NH3      0\n",
              "4     Andhra_Pradesh          SO2      0\n",
              "...              ...          ...    ...\n",
              "1831     West_Bengal          NO2      0\n",
              "1832     West_Bengal          NH3      0\n",
              "1833     West_Bengal          SO2      0\n",
              "1834     West_Bengal           CO      0\n",
              "1835     West_Bengal        OZONE      0\n",
              "\n",
              "[1836 rows x 3 columns]"
            ],
            "text/html": [
              "\n",
              "  <div id=\"df-282d13b7-347e-434b-b223-15ccbd11ab8c\">\n",
              "    <div class=\"colab-df-container\">\n",
              "      <div>\n",
              "<style scoped>\n",
              "    .dataframe tbody tr th:only-of-type {\n",
              "        vertical-align: middle;\n",
              "    }\n",
              "\n",
              "    .dataframe tbody tr th {\n",
              "        vertical-align: top;\n",
              "    }\n",
              "\n",
              "    .dataframe thead th {\n",
              "        text-align: right;\n",
              "    }\n",
              "</style>\n",
              "<table border=\"1\" class=\"dataframe\">\n",
              "  <thead>\n",
              "    <tr style=\"text-align: right;\">\n",
              "      <th></th>\n",
              "      <th>state</th>\n",
              "      <th>pollutant_id</th>\n",
              "      <th>lable</th>\n",
              "    </tr>\n",
              "  </thead>\n",
              "  <tbody>\n",
              "    <tr>\n",
              "      <th>0</th>\n",
              "      <td>Andhra_Pradesh</td>\n",
              "      <td>PM2.5</td>\n",
              "      <td>1</td>\n",
              "    </tr>\n",
              "    <tr>\n",
              "      <th>1</th>\n",
              "      <td>Andhra_Pradesh</td>\n",
              "      <td>PM10</td>\n",
              "      <td>1</td>\n",
              "    </tr>\n",
              "    <tr>\n",
              "      <th>2</th>\n",
              "      <td>Andhra_Pradesh</td>\n",
              "      <td>NO2</td>\n",
              "      <td>0</td>\n",
              "    </tr>\n",
              "    <tr>\n",
              "      <th>3</th>\n",
              "      <td>Andhra_Pradesh</td>\n",
              "      <td>NH3</td>\n",
              "      <td>0</td>\n",
              "    </tr>\n",
              "    <tr>\n",
              "      <th>4</th>\n",
              "      <td>Andhra_Pradesh</td>\n",
              "      <td>SO2</td>\n",
              "      <td>0</td>\n",
              "    </tr>\n",
              "    <tr>\n",
              "      <th>...</th>\n",
              "      <td>...</td>\n",
              "      <td>...</td>\n",
              "      <td>...</td>\n",
              "    </tr>\n",
              "    <tr>\n",
              "      <th>1831</th>\n",
              "      <td>West_Bengal</td>\n",
              "      <td>NO2</td>\n",
              "      <td>0</td>\n",
              "    </tr>\n",
              "    <tr>\n",
              "      <th>1832</th>\n",
              "      <td>West_Bengal</td>\n",
              "      <td>NH3</td>\n",
              "      <td>0</td>\n",
              "    </tr>\n",
              "    <tr>\n",
              "      <th>1833</th>\n",
              "      <td>West_Bengal</td>\n",
              "      <td>SO2</td>\n",
              "      <td>0</td>\n",
              "    </tr>\n",
              "    <tr>\n",
              "      <th>1834</th>\n",
              "      <td>West_Bengal</td>\n",
              "      <td>CO</td>\n",
              "      <td>0</td>\n",
              "    </tr>\n",
              "    <tr>\n",
              "      <th>1835</th>\n",
              "      <td>West_Bengal</td>\n",
              "      <td>OZONE</td>\n",
              "      <td>0</td>\n",
              "    </tr>\n",
              "  </tbody>\n",
              "</table>\n",
              "<p>1836 rows × 3 columns</p>\n",
              "</div>\n",
              "      <button class=\"colab-df-convert\" onclick=\"convertToInteractive('df-282d13b7-347e-434b-b223-15ccbd11ab8c')\"\n",
              "              title=\"Convert this dataframe to an interactive table.\"\n",
              "              style=\"display:none;\">\n",
              "        \n",
              "  <svg xmlns=\"http://www.w3.org/2000/svg\" height=\"24px\"viewBox=\"0 0 24 24\"\n",
              "       width=\"24px\">\n",
              "    <path d=\"M0 0h24v24H0V0z\" fill=\"none\"/>\n",
              "    <path d=\"M18.56 5.44l.94 2.06.94-2.06 2.06-.94-2.06-.94-.94-2.06-.94 2.06-2.06.94zm-11 1L8.5 8.5l.94-2.06 2.06-.94-2.06-.94L8.5 2.5l-.94 2.06-2.06.94zm10 10l.94 2.06.94-2.06 2.06-.94-2.06-.94-.94-2.06-.94 2.06-2.06.94z\"/><path d=\"M17.41 7.96l-1.37-1.37c-.4-.4-.92-.59-1.43-.59-.52 0-1.04.2-1.43.59L10.3 9.45l-7.72 7.72c-.78.78-.78 2.05 0 2.83L4 21.41c.39.39.9.59 1.41.59.51 0 1.02-.2 1.41-.59l7.78-7.78 2.81-2.81c.8-.78.8-2.07 0-2.86zM5.41 20L4 18.59l7.72-7.72 1.47 1.35L5.41 20z\"/>\n",
              "  </svg>\n",
              "      </button>\n",
              "      \n",
              "  <style>\n",
              "    .colab-df-container {\n",
              "      display:flex;\n",
              "      flex-wrap:wrap;\n",
              "      gap: 12px;\n",
              "    }\n",
              "\n",
              "    .colab-df-convert {\n",
              "      background-color: #E8F0FE;\n",
              "      border: none;\n",
              "      border-radius: 50%;\n",
              "      cursor: pointer;\n",
              "      display: none;\n",
              "      fill: #1967D2;\n",
              "      height: 32px;\n",
              "      padding: 0 0 0 0;\n",
              "      width: 32px;\n",
              "    }\n",
              "\n",
              "    .colab-df-convert:hover {\n",
              "      background-color: #E2EBFA;\n",
              "      box-shadow: 0px 1px 2px rgba(60, 64, 67, 0.3), 0px 1px 3px 1px rgba(60, 64, 67, 0.15);\n",
              "      fill: #174EA6;\n",
              "    }\n",
              "\n",
              "    [theme=dark] .colab-df-convert {\n",
              "      background-color: #3B4455;\n",
              "      fill: #D2E3FC;\n",
              "    }\n",
              "\n",
              "    [theme=dark] .colab-df-convert:hover {\n",
              "      background-color: #434B5C;\n",
              "      box-shadow: 0px 1px 3px 1px rgba(0, 0, 0, 0.15);\n",
              "      filter: drop-shadow(0px 1px 2px rgba(0, 0, 0, 0.3));\n",
              "      fill: #FFFFFF;\n",
              "    }\n",
              "  </style>\n",
              "\n",
              "      <script>\n",
              "        const buttonEl =\n",
              "          document.querySelector('#df-282d13b7-347e-434b-b223-15ccbd11ab8c button.colab-df-convert');\n",
              "        buttonEl.style.display =\n",
              "          google.colab.kernel.accessAllowed ? 'block' : 'none';\n",
              "\n",
              "        async function convertToInteractive(key) {\n",
              "          const element = document.querySelector('#df-282d13b7-347e-434b-b223-15ccbd11ab8c');\n",
              "          const dataTable =\n",
              "            await google.colab.kernel.invokeFunction('convertToInteractive',\n",
              "                                                     [key], {});\n",
              "          if (!dataTable) return;\n",
              "\n",
              "          const docLinkHtml = 'Like what you see? Visit the ' +\n",
              "            '<a target=\"_blank\" href=https://colab.research.google.com/notebooks/data_table.ipynb>data table notebook</a>'\n",
              "            + ' to learn more about interactive tables.';\n",
              "          element.innerHTML = '';\n",
              "          dataTable['output_type'] = 'display_data';\n",
              "          await google.colab.output.renderOutput(dataTable, element);\n",
              "          const docLink = document.createElement('div');\n",
              "          docLink.innerHTML = docLinkHtml;\n",
              "          element.appendChild(docLink);\n",
              "        }\n",
              "      </script>\n",
              "    </div>\n",
              "  </div>\n",
              "  "
            ]
          },
          "metadata": {},
          "execution_count": 32
        }
      ]
    },
    {
      "cell_type": "code",
      "source": [
        "df2['state'].unique()"
      ],
      "metadata": {
        "colab": {
          "base_uri": "https://localhost:8080/"
        },
        "id": "AW0q_EF4FSDS",
        "outputId": "ccb81f61-a5a7-4744-ec78-78c6ba34b790"
      },
      "execution_count": null,
      "outputs": [
        {
          "output_type": "execute_result",
          "data": {
            "text/plain": [
              "array(['Andhra_Pradesh', 'Assam', 'Bihar', 'Chandigarh', 'Chhattisgarh',\n",
              "       'Delhi', 'Gujarat', 'Haryana', 'Jammu_&_Kashmir', 'Jharkhand',\n",
              "       'Karnataka', 'Kerala', 'Madhya Pradesh', 'Maharashtra',\n",
              "       'Meghalaya', 'Mizoram', 'Nagaland', 'Odisha', 'Puducherry',\n",
              "       'Punjab', 'Rajasthan', 'TamilNadu', 'Telangana', 'Tripura',\n",
              "       'Uttar_Pradesh', 'West_Bengal'], dtype=object)"
            ]
          },
          "metadata": {},
          "execution_count": 33
        }
      ]
    },
    {
      "cell_type": "code",
      "source": [
        "df2['pollutant_id'].unique()"
      ],
      "metadata": {
        "colab": {
          "base_uri": "https://localhost:8080/"
        },
        "id": "2IobmkzXFSR_",
        "outputId": "b2bf9449-284c-4615-bbf7-c037335b6093"
      },
      "execution_count": null,
      "outputs": [
        {
          "output_type": "execute_result",
          "data": {
            "text/plain": [
              "array(['PM2.5', 'PM10', 'NO2', 'NH3', 'SO2', 'CO', 'OZONE'], dtype=object)"
            ]
          },
          "metadata": {},
          "execution_count": 34
        }
      ]
    },
    {
      "cell_type": "code",
      "source": [
        "df2['pollutant_id'].replace(['PM2.5', 'PM10', 'NO2', 'NH3', 'SO2', 'CO', 'OZONE'],\n",
        "                        [0, 1,2,3,4,5,6], inplace=True)"
      ],
      "metadata": {
        "id": "jIXupG7HFSfG"
      },
      "execution_count": null,
      "outputs": []
    },
    {
      "cell_type": "code",
      "source": [
        "df2['state'].replace(['Andhra_Pradesh', 'Assam', 'Bihar', 'Chandigarh', 'Chhattisgarh',\n",
        "       'Delhi', 'Gujarat', 'Haryana', 'Jammu_&_Kashmir', 'Jharkhand',\n",
        "       'Karnataka', 'Kerala', 'Madhya Pradesh', 'Maharashtra',\n",
        "       'Meghalaya', 'Mizoram', 'Nagaland', 'Odisha', 'Puducherry',\n",
        "       'Punjab', 'Rajasthan', 'TamilNadu', 'Telangana', 'Tripura',\n",
        "       'Uttar_Pradesh', 'West_Bengal'],\n",
        "                        [0, 1,2,3,4,5,6,7,8,9,10,11,12,13,14,15,16,17,18,19,20,21,22,23,24,25], inplace=True)"
      ],
      "metadata": {
        "id": "H4qWIJ5_Ep-g"
      },
      "execution_count": null,
      "outputs": []
    },
    {
      "cell_type": "code",
      "source": [
        "X = df2.iloc[:, :2].values\n",
        "y = df2.iloc[:, -1].values"
      ],
      "metadata": {
        "id": "PcV7_IHNEqAL"
      },
      "execution_count": null,
      "outputs": []
    },
    {
      "cell_type": "code",
      "source": [
        "X"
      ],
      "metadata": {
        "colab": {
          "base_uri": "https://localhost:8080/"
        },
        "id": "Q0NyZV2dEqDo",
        "outputId": "340f8739-99aa-463f-dcb8-ad5dad0c8dfb"
      },
      "execution_count": null,
      "outputs": [
        {
          "output_type": "execute_result",
          "data": {
            "text/plain": [
              "array([[ 0,  0],\n",
              "       [ 0,  1],\n",
              "       [ 0,  2],\n",
              "       ...,\n",
              "       [25,  4],\n",
              "       [25,  5],\n",
              "       [25,  6]])"
            ]
          },
          "metadata": {},
          "execution_count": 38
        }
      ]
    },
    {
      "cell_type": "code",
      "source": [
        "y"
      ],
      "metadata": {
        "colab": {
          "base_uri": "https://localhost:8080/"
        },
        "id": "YAhrk3WYKGot",
        "outputId": "8d4818f7-9645-485d-ff5a-91e43998cbb8"
      },
      "execution_count": null,
      "outputs": [
        {
          "output_type": "execute_result",
          "data": {
            "text/plain": [
              "array([1, 1, 0, ..., 0, 0, 0])"
            ]
          },
          "metadata": {},
          "execution_count": 39
        }
      ]
    },
    {
      "cell_type": "code",
      "source": [
        "from sklearn.model_selection import train_test_split\n",
        "X_trainset, X_testset, y_trainset, y_testset = train_test_split(X, y, test_size=0.3, random_state=3)"
      ],
      "metadata": {
        "id": "eSNiBIPwKGqV"
      },
      "execution_count": null,
      "outputs": []
    },
    {
      "cell_type": "code",
      "source": [
        "from sklearn.tree import DecisionTreeClassifier\n",
        "drugTree = DecisionTreeClassifier(criterion=\"entropy\", max_depth = 4)\n",
        "drugTree # it shows the default parameters"
      ],
      "metadata": {
        "colab": {
          "base_uri": "https://localhost:8080/"
        },
        "id": "LDrJIDN-KGtH",
        "outputId": "92a1aafa-9723-4478-e0f6-a235c8ee4ca3"
      },
      "execution_count": null,
      "outputs": [
        {
          "output_type": "execute_result",
          "data": {
            "text/plain": [
              "DecisionTreeClassifier(criterion='entropy', max_depth=4)"
            ]
          },
          "metadata": {},
          "execution_count": 41
        }
      ]
    },
    {
      "cell_type": "code",
      "source": [
        "drugTree.fit(X_trainset,y_trainset)"
      ],
      "metadata": {
        "colab": {
          "base_uri": "https://localhost:8080/"
        },
        "id": "WM8pYDjHKGus",
        "outputId": "353bc364-fa33-4a21-85b0-10b0fbb48697"
      },
      "execution_count": null,
      "outputs": [
        {
          "output_type": "execute_result",
          "data": {
            "text/plain": [
              "DecisionTreeClassifier(criterion='entropy', max_depth=4)"
            ]
          },
          "metadata": {},
          "execution_count": 42
        }
      ]
    },
    {
      "cell_type": "code",
      "source": [
        "predTree = drugTree.predict(X_testset)\n",
        "predTree"
      ],
      "metadata": {
        "id": "GS-ogxayKGxB",
        "colab": {
          "base_uri": "https://localhost:8080/"
        },
        "outputId": "35a1cc35-918f-44fc-ecc0-64b903230e6b"
      },
      "execution_count": null,
      "outputs": [
        {
          "output_type": "execute_result",
          "data": {
            "text/plain": [
              "array([0, 0, 0, 1, 1, 1, 0, 1, 0, 0, 0, 0, 0, 0, 0, 0, 0, 0, 1, 0, 0, 0,\n",
              "       0, 1, 0, 0, 1, 0, 0, 0, 0, 1, 1, 0, 1, 0, 1, 0, 1, 1, 0, 0, 0, 0,\n",
              "       1, 0, 1, 0, 0, 0, 1, 0, 0, 1, 1, 0, 0, 0, 0, 0, 0, 0, 0, 0, 0, 1,\n",
              "       0, 0, 0, 0, 1, 1, 0, 0, 0, 1, 0, 0, 0, 0, 1, 0, 0, 0, 0, 0, 0, 0,\n",
              "       1, 1, 0, 0, 0, 0, 0, 1, 1, 1, 0, 0, 0, 0, 0, 0, 1, 0, 0, 0, 0, 1,\n",
              "       1, 0, 1, 0, 0, 0, 0, 0, 0, 0, 1, 0, 0, 1, 0, 0, 0, 0, 1, 0, 0, 0,\n",
              "       0, 0, 0, 0, 0, 0, 0, 1, 1, 0, 0, 0, 0, 0, 1, 0, 0, 0, 0, 0, 1, 0,\n",
              "       0, 1, 0, 1, 0, 0, 1, 0, 0, 1, 0, 1, 1, 0, 0, 0, 0, 0, 0, 0, 0, 0,\n",
              "       0, 0, 0, 0, 0, 0, 1, 0, 1, 1, 0, 0, 0, 0, 0, 1, 1, 1, 0, 0, 0, 0,\n",
              "       0, 1, 0, 0, 0, 0, 0, 1, 1, 0, 0, 0, 0, 0, 0, 0, 0, 0, 0, 1, 0, 0,\n",
              "       0, 0, 0, 0, 1, 0, 0, 1, 0, 0, 0, 0, 1, 0, 0, 0, 0, 0, 0, 1, 1, 0,\n",
              "       0, 0, 0, 0, 0, 0, 0, 1, 0, 0, 0, 1, 1, 1, 1, 0, 0, 0, 0, 0, 0, 1,\n",
              "       0, 0, 0, 0, 1, 0, 1, 0, 0, 0, 0, 0, 0, 0, 0, 0, 0, 0, 0, 0, 0, 0,\n",
              "       0, 0, 0, 0, 1, 0, 0, 0, 1, 1, 0, 1, 0, 0, 1, 0, 0, 0, 0, 1, 0, 0,\n",
              "       1, 0, 1, 0, 0, 1, 0, 0, 1, 1, 1, 0, 0, 1, 1, 0, 0, 1, 0, 1, 0, 0,\n",
              "       0, 1, 0, 0, 0, 0, 1, 1, 0, 1, 0, 1, 0, 0, 0, 0, 0, 0, 0, 1, 0, 1,\n",
              "       0, 0, 0, 1, 0, 0, 0, 1, 1, 0, 1, 0, 0, 1, 0, 1, 0, 0, 0, 1, 0, 0,\n",
              "       0, 0, 0, 0, 1, 0, 1, 0, 0, 1, 0, 0, 0, 0, 0, 0, 0, 1, 0, 0, 1, 0,\n",
              "       1, 0, 1, 1, 0, 0, 1, 0, 0, 0, 0, 0, 0, 1, 1, 0, 0, 1, 0, 0, 0, 0,\n",
              "       0, 0, 1, 0, 0, 0, 0, 0, 0, 0, 0, 0, 0, 0, 1, 1, 0, 0, 1, 0, 0, 0,\n",
              "       1, 1, 1, 1, 1, 0, 0, 0, 0, 1, 0, 0, 0, 1, 1, 1, 1, 0, 0, 1, 0, 1,\n",
              "       0, 0, 1, 0, 1, 1, 0, 0, 1, 0, 1, 0, 0, 0, 0, 0, 0, 0, 1, 0, 0, 0,\n",
              "       1, 0, 1, 1, 0, 0, 0, 0, 0, 0, 0, 0, 1, 1, 0, 1, 0, 1, 0, 0, 0, 0,\n",
              "       0, 1, 0, 0, 0, 0, 0, 0, 0, 1, 0, 0, 1, 0, 0, 1, 1, 0, 1, 1, 0, 0,\n",
              "       0, 0, 0, 0, 0, 0, 0, 0, 1, 0, 0, 0, 0, 0, 0, 1, 0, 0, 0, 0, 1, 0,\n",
              "       0])"
            ]
          },
          "metadata": {},
          "execution_count": 48
        }
      ]
    },
    {
      "cell_type": "code",
      "source": [
        "print (predTree [0:10])\n",
        "print (y_testset [0:10])"
      ],
      "metadata": {
        "colab": {
          "base_uri": "https://localhost:8080/"
        },
        "id": "zb0JqNB1KGyj",
        "outputId": "2df75b5b-242c-4036-81b2-4ae0a173293a"
      },
      "execution_count": null,
      "outputs": [
        {
          "output_type": "stream",
          "name": "stdout",
          "text": [
            "[0 0 0 1 1 1 0 1 0 0]\n",
            "[0 1 0 1 1 0 0 0 0 0]\n"
          ]
        }
      ]
    },
    {
      "cell_type": "code",
      "source": [
        "from sklearn import metrics\n",
        "import matplotlib.pyplot as plt\n",
        "print(\"DecisionTrees's Accuracy: \", metrics.accuracy_score(y_testset, predTree))"
      ],
      "metadata": {
        "colab": {
          "base_uri": "https://localhost:8080/"
        },
        "id": "zfDn-vq3KG1J",
        "outputId": "aac5a031-0fe6-4a49-ae2a-152aae428c45"
      },
      "execution_count": null,
      "outputs": [
        {
          "output_type": "stream",
          "name": "stdout",
          "text": [
            "DecisionTrees's Accuracy:  0.8584392014519057\n"
          ]
        }
      ]
    },
    {
      "cell_type": "code",
      "source": [
        "from six import StringIO\n",
        "import pydotplus\n",
        "import matplotlib.image as mpimg\n",
        "from sklearn import tree\n",
        "%matplotlib inline \n"
      ],
      "metadata": {
        "id": "-NKjLVKiKG2z"
      },
      "execution_count": null,
      "outputs": []
    },
    {
      "cell_type": "code",
      "source": [
        "from sklearn import tree\n",
        "\n",
        "from sklearn.tree import DecisionTreeClassifier\n",
        "dtree= DecisionTreeClassifier(criterion = 'entropy')\n",
        "dtree.fit(X_trainset,y_trainset)\n",
        "predictions= dtree.predict(X_testset)\n",
        "from sklearn.metrics import classification_report, confusion_matrix\n",
        "\n",
        "print(confusion_matrix(y_testset,predictions))\n",
        "print('\\n')\n",
        "print(classification_report(y_testset,predictions))\n",
        "tree.plot_tree(dtree)"
      ],
      "metadata": {
        "id": "zR_GBrZ1KG7I",
        "colab": {
          "base_uri": "https://localhost:8080/",
          "height": 1000
        },
        "outputId": "593dca4a-e5f0-4e51-c129-74d931bf8dc7"
      },
      "execution_count": null,
      "outputs": [
        {
          "output_type": "stream",
          "name": "stdout",
          "text": [
            "[[349  23]\n",
            " [ 48 131]]\n",
            "\n",
            "\n",
            "              precision    recall  f1-score   support\n",
            "\n",
            "           0       0.88      0.94      0.91       372\n",
            "           1       0.85      0.73      0.79       179\n",
            "\n",
            "    accuracy                           0.87       551\n",
            "   macro avg       0.86      0.84      0.85       551\n",
            "weighted avg       0.87      0.87      0.87       551\n",
            "\n"
          ]
        },
        {
          "output_type": "execute_result",
          "data": {
            "text/plain": [
              "[Text(0.3812154696132597, 0.9545454545454546, 'X[1] <= 1.5\\nentropy = 0.872\\nsamples = 1285\\nvalue = [909, 376]'),\n",
              " Text(0.1298342541436464, 0.8636363636363636, 'X[0] <= 7.5\\nentropy = 0.721\\nsamples = 366\\nvalue = [73, 293]'),\n",
              " Text(0.049723756906077346, 0.7727272727272727, 'X[0] <= 5.5\\nentropy = 0.382\\nsamples = 121\\nvalue = [9, 112]'),\n",
              " Text(0.027624309392265192, 0.6818181818181818, 'X[0] <= 0.5\\nentropy = 0.514\\nsamples = 61\\nvalue = [7, 54]'),\n",
              " Text(0.016574585635359115, 0.5909090909090909, 'entropy = 0.0\\nsamples = 7\\nvalue = [0, 7]'),\n",
              " Text(0.03867403314917127, 0.5909090909090909, 'X[0] <= 1.5\\nentropy = 0.556\\nsamples = 54\\nvalue = [7, 47]'),\n",
              " Text(0.027624309392265192, 0.5, 'entropy = 0.0\\nsamples = 1\\nvalue = [1, 0]'),\n",
              " Text(0.049723756906077346, 0.5, 'X[0] <= 2.5\\nentropy = 0.51\\nsamples = 53\\nvalue = [6, 47]'),\n",
              " Text(0.022099447513812154, 0.4090909090909091, 'X[1] <= 0.5\\nentropy = 0.722\\nsamples = 10\\nvalue = [2, 8]'),\n",
              " Text(0.011049723756906077, 0.3181818181818182, 'entropy = 0.592\\nsamples = 7\\nvalue = [1, 6]'),\n",
              " Text(0.03314917127071823, 0.3181818181818182, 'entropy = 0.918\\nsamples = 3\\nvalue = [1, 2]'),\n",
              " Text(0.07734806629834254, 0.4090909090909091, 'X[1] <= 0.5\\nentropy = 0.446\\nsamples = 43\\nvalue = [4, 39]'),\n",
              " Text(0.055248618784530384, 0.3181818181818182, 'X[0] <= 4.0\\nentropy = 0.559\\nsamples = 23\\nvalue = [3, 20]'),\n",
              " Text(0.04419889502762431, 0.22727272727272727, 'entropy = 0.0\\nsamples = 1\\nvalue = [0, 1]'),\n",
              " Text(0.06629834254143646, 0.22727272727272727, 'entropy = 0.575\\nsamples = 22\\nvalue = [3, 19]'),\n",
              " Text(0.09944751381215469, 0.3181818181818182, 'X[0] <= 4.5\\nentropy = 0.286\\nsamples = 20\\nvalue = [1, 19]'),\n",
              " Text(0.08839779005524862, 0.22727272727272727, 'entropy = 0.0\\nsamples = 3\\nvalue = [0, 3]'),\n",
              " Text(0.11049723756906077, 0.22727272727272727, 'entropy = 0.323\\nsamples = 17\\nvalue = [1, 16]'),\n",
              " Text(0.0718232044198895, 0.6818181818181818, 'X[0] <= 6.5\\nentropy = 0.211\\nsamples = 60\\nvalue = [2, 58]'),\n",
              " Text(0.06077348066298342, 0.5909090909090909, 'entropy = 0.0\\nsamples = 18\\nvalue = [0, 18]'),\n",
              " Text(0.08287292817679558, 0.5909090909090909, 'X[1] <= 0.5\\nentropy = 0.276\\nsamples = 42\\nvalue = [2, 40]'),\n",
              " Text(0.0718232044198895, 0.5, 'entropy = 0.286\\nsamples = 20\\nvalue = [1, 19]'),\n",
              " Text(0.09392265193370165, 0.5, 'entropy = 0.267\\nsamples = 22\\nvalue = [1, 21]'),\n",
              " Text(0.20994475138121546, 0.7727272727272727, 'X[0] <= 11.5\\nentropy = 0.829\\nsamples = 245\\nvalue = [64, 181]'),\n",
              " Text(0.14917127071823205, 0.6818181818181818, 'X[0] <= 10.5\\nentropy = 0.977\\nsamples = 51\\nvalue = [30, 21]'),\n",
              " Text(0.1270718232044199, 0.5909090909090909, 'X[0] <= 9.5\\nentropy = 0.998\\nsamples = 42\\nvalue = [22, 20]'),\n",
              " Text(0.11602209944751381, 0.5, 'entropy = 0.0\\nsamples = 2\\nvalue = [2, 0]'),\n",
              " Text(0.13812154696132597, 0.5, 'X[1] <= 0.5\\nentropy = 1.0\\nsamples = 40\\nvalue = [20, 20]'),\n",
              " Text(0.1270718232044199, 0.4090909090909091, 'entropy = 0.949\\nsamples = 19\\nvalue = [12, 7]'),\n",
              " Text(0.14917127071823205, 0.4090909090909091, 'entropy = 0.959\\nsamples = 21\\nvalue = [8, 13]'),\n",
              " Text(0.1712707182320442, 0.5909090909090909, 'X[1] <= 0.5\\nentropy = 0.503\\nsamples = 9\\nvalue = [8, 1]'),\n",
              " Text(0.16022099447513813, 0.5, 'entropy = 0.0\\nsamples = 4\\nvalue = [4, 0]'),\n",
              " Text(0.18232044198895028, 0.5, 'entropy = 0.722\\nsamples = 5\\nvalue = [4, 1]'),\n",
              " Text(0.27071823204419887, 0.6818181818181818, 'X[0] <= 24.5\\nentropy = 0.67\\nsamples = 194\\nvalue = [34, 160]'),\n",
              " Text(0.23756906077348067, 0.5909090909090909, 'X[0] <= 16.5\\nentropy = 0.565\\nsamples = 173\\nvalue = [23, 150]'),\n",
              " Text(0.20441988950276244, 0.5, 'X[0] <= 13.5\\nentropy = 0.773\\nsamples = 66\\nvalue = [15, 51]'),\n",
              " Text(0.19337016574585636, 0.4090909090909091, 'X[0] <= 12.5\\nentropy = 0.674\\nsamples = 62\\nvalue = [11, 51]'),\n",
              " Text(0.1712707182320442, 0.3181818181818182, 'X[1] <= 0.5\\nentropy = 0.811\\nsamples = 16\\nvalue = [4, 12]'),\n",
              " Text(0.16022099447513813, 0.22727272727272727, 'entropy = 0.811\\nsamples = 8\\nvalue = [2, 6]'),\n",
              " Text(0.18232044198895028, 0.22727272727272727, 'entropy = 0.811\\nsamples = 8\\nvalue = [2, 6]'),\n",
              " Text(0.2154696132596685, 0.3181818181818182, 'X[1] <= 0.5\\nentropy = 0.615\\nsamples = 46\\nvalue = [7, 39]'),\n",
              " Text(0.20441988950276244, 0.22727272727272727, 'entropy = 0.702\\nsamples = 21\\nvalue = [4, 17]'),\n",
              " Text(0.2265193370165746, 0.22727272727272727, 'entropy = 0.529\\nsamples = 25\\nvalue = [3, 22]'),\n",
              " Text(0.2154696132596685, 0.4090909090909091, 'entropy = 0.0\\nsamples = 4\\nvalue = [4, 0]'),\n",
              " Text(0.27071823204419887, 0.5, 'X[0] <= 20.5\\nentropy = 0.383\\nsamples = 107\\nvalue = [8, 99]'),\n",
              " Text(0.2596685082872928, 0.4090909090909091, 'entropy = 0.0\\nsamples = 29\\nvalue = [0, 29]'),\n",
              " Text(0.281767955801105, 0.4090909090909091, 'X[0] <= 23.5\\nentropy = 0.477\\nsamples = 78\\nvalue = [8, 70]'),\n",
              " Text(0.2596685082872928, 0.3181818181818182, 'X[0] <= 22.5\\nentropy = 0.792\\nsamples = 21\\nvalue = [5, 16]'),\n",
              " Text(0.24861878453038674, 0.22727272727272727, 'X[1] <= 0.5\\nentropy = 0.629\\nsamples = 19\\nvalue = [3, 16]'),\n",
              " Text(0.2265193370165746, 0.13636363636363635, 'X[0] <= 21.5\\nentropy = 0.722\\nsamples = 10\\nvalue = [2, 8]'),\n",
              " Text(0.2154696132596685, 0.045454545454545456, 'entropy = 0.722\\nsamples = 5\\nvalue = [1, 4]'),\n",
              " Text(0.23756906077348067, 0.045454545454545456, 'entropy = 0.722\\nsamples = 5\\nvalue = [1, 4]'),\n",
              " Text(0.27071823204419887, 0.13636363636363635, 'X[0] <= 21.5\\nentropy = 0.503\\nsamples = 9\\nvalue = [1, 8]'),\n",
              " Text(0.2596685082872928, 0.045454545454545456, 'entropy = 0.0\\nsamples = 4\\nvalue = [0, 4]'),\n",
              " Text(0.281767955801105, 0.045454545454545456, 'entropy = 0.722\\nsamples = 5\\nvalue = [1, 4]'),\n",
              " Text(0.27071823204419887, 0.22727272727272727, 'entropy = 0.0\\nsamples = 2\\nvalue = [2, 0]'),\n",
              " Text(0.30386740331491713, 0.3181818181818182, 'X[1] <= 0.5\\nentropy = 0.297\\nsamples = 57\\nvalue = [3, 54]'),\n",
              " Text(0.292817679558011, 0.22727272727272727, 'entropy = 0.491\\nsamples = 28\\nvalue = [3, 25]'),\n",
              " Text(0.3149171270718232, 0.22727272727272727, 'entropy = 0.0\\nsamples = 29\\nvalue = [0, 29]'),\n",
              " Text(0.30386740331491713, 0.5909090909090909, 'X[1] <= 0.5\\nentropy = 0.998\\nsamples = 21\\nvalue = [11, 10]'),\n",
              " Text(0.292817679558011, 0.5, 'entropy = 0.946\\nsamples = 11\\nvalue = [7, 4]'),\n",
              " Text(0.3149171270718232, 0.5, 'entropy = 0.971\\nsamples = 10\\nvalue = [4, 6]'),\n",
              " Text(0.6325966850828729, 0.8636363636363636, 'X[1] <= 4.5\\nentropy = 0.438\\nsamples = 919\\nvalue = [836, 83]'),\n",
              " Text(0.47651933701657456, 0.7727272727272727, 'X[1] <= 2.5\\nentropy = 0.299\\nsamples = 546\\nvalue = [517, 29]'),\n",
              " Text(0.4171270718232044, 0.6818181818181818, 'X[0] <= 5.5\\nentropy = 0.567\\nsamples = 187\\nvalue = [162, 25]'),\n",
              " Text(0.35911602209944754, 0.5909090909090909, 'X[0] <= 2.5\\nentropy = 0.858\\nsamples = 39\\nvalue = [28, 11]'),\n",
              " Text(0.3370165745856354, 0.5, 'X[0] <= 0.5\\nentropy = 0.619\\nsamples = 13\\nvalue = [11, 2]'),\n",
              " Text(0.3259668508287293, 0.4090909090909091, 'entropy = 0.918\\nsamples = 3\\nvalue = [2, 1]'),\n",
              " Text(0.34806629834254144, 0.4090909090909091, 'X[0] <= 1.5\\nentropy = 0.469\\nsamples = 10\\nvalue = [9, 1]'),\n",
              " Text(0.3370165745856354, 0.3181818181818182, 'entropy = 0.0\\nsamples = 2\\nvalue = [2, 0]'),\n",
              " Text(0.35911602209944754, 0.3181818181818182, 'entropy = 0.544\\nsamples = 8\\nvalue = [7, 1]'),\n",
              " Text(0.3812154696132597, 0.5, 'X[0] <= 3.5\\nentropy = 0.931\\nsamples = 26\\nvalue = [17, 9]'),\n",
              " Text(0.3701657458563536, 0.4090909090909091, 'entropy = 1.0\\nsamples = 2\\nvalue = [1, 1]'),\n",
              " Text(0.39226519337016574, 0.4090909090909091, 'X[0] <= 4.5\\nentropy = 0.918\\nsamples = 24\\nvalue = [16, 8]'),\n",
              " Text(0.3812154696132597, 0.3181818181818182, 'entropy = 0.0\\nsamples = 1\\nvalue = [1, 0]'),\n",
              " Text(0.40331491712707185, 0.3181818181818182, 'entropy = 0.932\\nsamples = 23\\nvalue = [15, 8]'),\n",
              " Text(0.47513812154696133, 0.5909090909090909, 'X[0] <= 18.5\\nentropy = 0.452\\nsamples = 148\\nvalue = [134, 14]'),\n",
              " Text(0.44751381215469616, 0.5, 'X[0] <= 7.5\\nentropy = 0.211\\nsamples = 90\\nvalue = [87, 3]'),\n",
              " Text(0.43646408839779005, 0.4090909090909091, 'X[0] <= 6.5\\nentropy = 0.469\\nsamples = 30\\nvalue = [27, 3]'),\n",
              " Text(0.425414364640884, 0.3181818181818182, 'entropy = 0.544\\nsamples = 8\\nvalue = [7, 1]'),\n",
              " Text(0.44751381215469616, 0.3181818181818182, 'entropy = 0.439\\nsamples = 22\\nvalue = [20, 2]'),\n",
              " Text(0.4585635359116022, 0.4090909090909091, 'entropy = 0.0\\nsamples = 60\\nvalue = [60, 0]'),\n",
              " Text(0.5027624309392266, 0.5, 'X[0] <= 21.5\\nentropy = 0.701\\nsamples = 58\\nvalue = [47, 11]'),\n",
              " Text(0.48066298342541436, 0.4090909090909091, 'X[0] <= 19.5\\nentropy = 0.485\\nsamples = 19\\nvalue = [17, 2]'),\n",
              " Text(0.4696132596685083, 0.3181818181818182, 'entropy = 0.918\\nsamples = 6\\nvalue = [4, 2]'),\n",
              " Text(0.49171270718232046, 0.3181818181818182, 'entropy = 0.0\\nsamples = 13\\nvalue = [13, 0]'),\n",
              " Text(0.5248618784530387, 0.4090909090909091, 'X[0] <= 24.5\\nentropy = 0.779\\nsamples = 39\\nvalue = [30, 9]'),\n",
              " Text(0.5138121546961326, 0.3181818181818182, 'X[0] <= 23.5\\nentropy = 0.811\\nsamples = 32\\nvalue = [24, 8]'),\n",
              " Text(0.5027624309392266, 0.22727272727272727, 'X[0] <= 22.5\\nentropy = 0.722\\nsamples = 5\\nvalue = [4, 1]'),\n",
              " Text(0.49171270718232046, 0.13636363636363635, 'entropy = 0.811\\nsamples = 4\\nvalue = [3, 1]'),\n",
              " Text(0.5138121546961326, 0.13636363636363635, 'entropy = 0.0\\nsamples = 1\\nvalue = [1, 0]'),\n",
              " Text(0.5248618784530387, 0.22727272727272727, 'entropy = 0.826\\nsamples = 27\\nvalue = [20, 7]'),\n",
              " Text(0.5359116022099447, 0.3181818181818182, 'entropy = 0.592\\nsamples = 7\\nvalue = [6, 1]'),\n",
              " Text(0.5359116022099447, 0.6818181818181818, 'X[1] <= 3.5\\nentropy = 0.088\\nsamples = 359\\nvalue = [355, 4]'),\n",
              " Text(0.5248618784530387, 0.5909090909090909, 'entropy = 0.0\\nsamples = 164\\nvalue = [164, 0]'),\n",
              " Text(0.5469613259668509, 0.5909090909090909, 'X[0] <= 5.5\\nentropy = 0.144\\nsamples = 195\\nvalue = [191, 4]'),\n",
              " Text(0.5359116022099447, 0.5, 'entropy = 0.0\\nsamples = 34\\nvalue = [34, 0]'),\n",
              " Text(0.5580110497237569, 0.5, 'X[0] <= 6.5\\nentropy = 0.168\\nsamples = 161\\nvalue = [157, 4]'),\n",
              " Text(0.5469613259668509, 0.4090909090909091, 'entropy = 0.722\\nsamples = 10\\nvalue = [8, 2]'),\n",
              " Text(0.569060773480663, 0.4090909090909091, 'X[0] <= 9.5\\nentropy = 0.102\\nsamples = 151\\nvalue = [149, 2]'),\n",
              " Text(0.5580110497237569, 0.3181818181818182, 'entropy = 0.0\\nsamples = 23\\nvalue = [23, 0]'),\n",
              " Text(0.580110497237569, 0.3181818181818182, 'X[0] <= 10.5\\nentropy = 0.116\\nsamples = 128\\nvalue = [126, 2]'),\n",
              " Text(0.569060773480663, 0.22727272727272727, 'entropy = 0.267\\nsamples = 22\\nvalue = [21, 1]'),\n",
              " Text(0.5911602209944752, 0.22727272727272727, 'X[0] <= 23.0\\nentropy = 0.077\\nsamples = 106\\nvalue = [105, 1]'),\n",
              " Text(0.580110497237569, 0.13636363636363635, 'entropy = 0.0\\nsamples = 67\\nvalue = [67, 0]'),\n",
              " Text(0.6022099447513812, 0.13636363636363635, 'X[0] <= 24.5\\nentropy = 0.172\\nsamples = 39\\nvalue = [38, 1]'),\n",
              " Text(0.5911602209944752, 0.045454545454545456, 'entropy = 0.216\\nsamples = 29\\nvalue = [28, 1]'),\n",
              " Text(0.6132596685082873, 0.045454545454545456, 'entropy = 0.0\\nsamples = 10\\nvalue = [10, 0]'),\n",
              " Text(0.7886740331491713, 0.7727272727272727, 'X[1] <= 5.5\\nentropy = 0.597\\nsamples = 373\\nvalue = [319, 54]'),\n",
              " Text(0.6906077348066298, 0.6818181818181818, 'X[0] <= 6.5\\nentropy = 0.684\\nsamples = 198\\nvalue = [162, 36]'),\n",
              " Text(0.6243093922651933, 0.5909090909090909, 'X[0] <= 1.5\\nentropy = 0.867\\nsamples = 52\\nvalue = [37, 15]'),\n",
              " Text(0.6132596685082873, 0.5, 'entropy = 0.0\\nsamples = 5\\nvalue = [5, 0]'),\n",
              " Text(0.6353591160220995, 0.5, 'X[0] <= 3.5\\nentropy = 0.903\\nsamples = 47\\nvalue = [32, 15]'),\n",
              " Text(0.6132596685082873, 0.4090909090909091, 'X[0] <= 2.5\\nentropy = 0.811\\nsamples = 8\\nvalue = [6, 2]'),\n",
              " Text(0.6022099447513812, 0.3181818181818182, 'entropy = 0.863\\nsamples = 7\\nvalue = [5, 2]'),\n",
              " Text(0.6243093922651933, 0.3181818181818182, 'entropy = 0.0\\nsamples = 1\\nvalue = [1, 0]'),\n",
              " Text(0.6574585635359116, 0.4090909090909091, 'X[0] <= 4.5\\nentropy = 0.918\\nsamples = 39\\nvalue = [26, 13]'),\n",
              " Text(0.6464088397790055, 0.3181818181818182, 'entropy = 0.0\\nsamples = 1\\nvalue = [0, 1]'),\n",
              " Text(0.6685082872928176, 0.3181818181818182, 'X[0] <= 5.5\\nentropy = 0.9\\nsamples = 38\\nvalue = [26, 12]'),\n",
              " Text(0.6574585635359116, 0.22727272727272727, 'entropy = 0.877\\nsamples = 27\\nvalue = [19, 8]'),\n",
              " Text(0.6795580110497238, 0.22727272727272727, 'entropy = 0.946\\nsamples = 11\\nvalue = [7, 4]'),\n",
              " Text(0.7569060773480663, 0.5909090909090909, 'X[0] <= 12.5\\nentropy = 0.594\\nsamples = 146\\nvalue = [125, 21]'),\n",
              " Text(0.7348066298342542, 0.5, 'X[0] <= 10.5\\nentropy = 0.485\\nsamples = 57\\nvalue = [51, 6]'),\n",
              " Text(0.7237569060773481, 0.4090909090909091, 'X[0] <= 9.0\\nentropy = 0.567\\nsamples = 45\\nvalue = [39, 6]'),\n",
              " Text(0.712707182320442, 0.3181818181818182, 'X[0] <= 7.5\\nentropy = 0.529\\nsamples = 25\\nvalue = [22, 3]'),\n",
              " Text(0.7016574585635359, 0.22727272727272727, 'entropy = 0.544\\nsamples = 24\\nvalue = [21, 3]'),\n",
              " Text(0.7237569060773481, 0.22727272727272727, 'entropy = 0.0\\nsamples = 1\\nvalue = [1, 0]'),\n",
              " Text(0.7348066298342542, 0.3181818181818182, 'entropy = 0.61\\nsamples = 20\\nvalue = [17, 3]'),\n",
              " Text(0.7458563535911602, 0.4090909090909091, 'entropy = 0.0\\nsamples = 12\\nvalue = [12, 0]'),\n",
              " Text(0.7790055248618785, 0.5, 'X[0] <= 14.0\\nentropy = 0.654\\nsamples = 89\\nvalue = [74, 15]'),\n",
              " Text(0.7679558011049724, 0.4090909090909091, 'entropy = 0.863\\nsamples = 21\\nvalue = [15, 6]'),\n",
              " Text(0.7900552486187845, 0.4090909090909091, 'X[0] <= 20.5\\nentropy = 0.564\\nsamples = 68\\nvalue = [59, 9]'),\n",
              " Text(0.7790055248618785, 0.3181818181818182, 'entropy = 0.0\\nsamples = 13\\nvalue = [13, 0]'),\n",
              " Text(0.8011049723756906, 0.3181818181818182, 'X[0] <= 23.5\\nentropy = 0.643\\nsamples = 55\\nvalue = [46, 9]'),\n",
              " Text(0.7790055248618785, 0.22727272727272727, 'X[0] <= 21.5\\nentropy = 0.391\\nsamples = 13\\nvalue = [12, 1]'),\n",
              " Text(0.7679558011049724, 0.13636363636363635, 'entropy = 0.65\\nsamples = 6\\nvalue = [5, 1]'),\n",
              " Text(0.7900552486187845, 0.13636363636363635, 'entropy = 0.0\\nsamples = 7\\nvalue = [7, 0]'),\n",
              " Text(0.8232044198895028, 0.22727272727272727, 'X[0] <= 24.5\\nentropy = 0.702\\nsamples = 42\\nvalue = [34, 8]'),\n",
              " Text(0.8121546961325967, 0.13636363636363635, 'entropy = 0.672\\nsamples = 34\\nvalue = [28, 6]'),\n",
              " Text(0.8342541436464088, 0.13636363636363635, 'entropy = 0.811\\nsamples = 8\\nvalue = [6, 2]'),\n",
              " Text(0.8867403314917127, 0.6818181818181818, 'X[0] <= 6.5\\nentropy = 0.478\\nsamples = 175\\nvalue = [157, 18]'),\n",
              " Text(0.856353591160221, 0.5909090909090909, 'X[0] <= 4.0\\nentropy = 0.267\\nsamples = 44\\nvalue = [42, 2]'),\n",
              " Text(0.8453038674033149, 0.5, 'X[0] <= 2.5\\nentropy = 0.65\\nsamples = 12\\nvalue = [10, 2]'),\n",
              " Text(0.8342541436464088, 0.4090909090909091, 'X[0] <= 1.5\\nentropy = 0.469\\nsamples = 10\\nvalue = [9, 1]'),\n",
              " Text(0.8232044198895028, 0.3181818181818182, 'entropy = 0.0\\nsamples = 3\\nvalue = [3, 0]'),\n",
              " Text(0.8453038674033149, 0.3181818181818182, 'entropy = 0.592\\nsamples = 7\\nvalue = [6, 1]'),\n",
              " Text(0.856353591160221, 0.4090909090909091, 'entropy = 1.0\\nsamples = 2\\nvalue = [1, 1]'),\n",
              " Text(0.8674033149171271, 0.5, 'entropy = 0.0\\nsamples = 32\\nvalue = [32, 0]'),\n",
              " Text(0.9171270718232044, 0.5909090909090909, 'X[0] <= 12.5\\nentropy = 0.535\\nsamples = 131\\nvalue = [115, 16]'),\n",
              " Text(0.8895027624309392, 0.5, 'X[0] <= 11.5\\nentropy = 0.642\\nsamples = 49\\nvalue = [41, 8]'),\n",
              " Text(0.8784530386740331, 0.4090909090909091, 'X[0] <= 10.5\\nentropy = 0.567\\nsamples = 45\\nvalue = [39, 6]'),\n",
              " Text(0.8674033149171271, 0.3181818181818182, 'X[0] <= 8.5\\nentropy = 0.619\\nsamples = 39\\nvalue = [33, 6]'),\n",
              " Text(0.856353591160221, 0.22727272727272727, 'entropy = 0.702\\nsamples = 21\\nvalue = [17, 4]'),\n",
              " Text(0.8784530386740331, 0.22727272727272727, 'entropy = 0.503\\nsamples = 18\\nvalue = [16, 2]'),\n",
              " Text(0.8895027624309392, 0.3181818181818182, 'entropy = 0.0\\nsamples = 6\\nvalue = [6, 0]'),\n",
              " Text(0.9005524861878453, 0.4090909090909091, 'entropy = 1.0\\nsamples = 4\\nvalue = [2, 2]'),\n",
              " Text(0.9447513812154696, 0.5, 'X[0] <= 19.5\\nentropy = 0.461\\nsamples = 82\\nvalue = [74, 8]'),\n",
              " Text(0.9226519337016574, 0.4090909090909091, 'X[0] <= 13.5\\nentropy = 0.211\\nsamples = 30\\nvalue = [29, 1]'),\n",
              " Text(0.9116022099447514, 0.3181818181818182, 'entropy = 0.297\\nsamples = 19\\nvalue = [18, 1]'),\n",
              " Text(0.9337016574585635, 0.3181818181818182, 'entropy = 0.0\\nsamples = 11\\nvalue = [11, 0]'),\n",
              " Text(0.9668508287292817, 0.4090909090909091, 'X[0] <= 24.5\\nentropy = 0.57\\nsamples = 52\\nvalue = [45, 7]'),\n",
              " Text(0.9558011049723757, 0.3181818181818182, 'X[0] <= 22.5\\nentropy = 0.511\\nsamples = 44\\nvalue = [39, 5]'),\n",
              " Text(0.9337016574585635, 0.22727272727272727, 'X[0] <= 21.5\\nentropy = 0.65\\nsamples = 12\\nvalue = [10, 2]'),\n",
              " Text(0.9226519337016574, 0.13636363636363635, 'X[0] <= 20.5\\nentropy = 0.469\\nsamples = 10\\nvalue = [9, 1]'),\n",
              " Text(0.9116022099447514, 0.045454545454545456, 'entropy = 0.503\\nsamples = 9\\nvalue = [8, 1]'),\n",
              " Text(0.9337016574585635, 0.045454545454545456, 'entropy = 0.0\\nsamples = 1\\nvalue = [1, 0]'),\n",
              " Text(0.9447513812154696, 0.13636363636363635, 'entropy = 1.0\\nsamples = 2\\nvalue = [1, 1]'),\n",
              " Text(0.9779005524861878, 0.22727272727272727, 'X[0] <= 23.5\\nentropy = 0.449\\nsamples = 32\\nvalue = [29, 3]'),\n",
              " Text(0.9668508287292817, 0.13636363636363635, 'entropy = 0.0\\nsamples = 1\\nvalue = [1, 0]'),\n",
              " Text(0.988950276243094, 0.13636363636363635, 'entropy = 0.459\\nsamples = 31\\nvalue = [28, 3]'),\n",
              " Text(0.9779005524861878, 0.3181818181818182, 'entropy = 0.811\\nsamples = 8\\nvalue = [6, 2]')]"
            ]
          },
          "metadata": {},
          "execution_count": 47
        },
        {
          "output_type": "display_data",
          "data": {
            "text/plain": [
              "<Figure size 432x288 with 1 Axes>"
            ],
            "image/png": "[encoded data removed]"
          },
          "metadata": {
            "needs_background": "light"
          }
        }
      ]
    },
    {
      "cell_type": "code",
      "source": [],
      "metadata": {
        "id": "S56dmzVDKG_J"
      },
      "execution_count": null,
      "outputs": []
    }
  ]
}