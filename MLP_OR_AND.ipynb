{
  "nbformat": 4,
  "nbformat_minor": 0,
  "metadata": {
    "colab": {
      "provenance": [],
      "include_colab_link": true
    },
    "kernelspec": {
      "name": "python3",
      "display_name": "Python 3"
    },
    "language_info": {
      "name": "python"
    }
  },
  "cells": [
    {
      "cell_type": "markdown",
      "metadata": {
        "id": "view-in-github",
        "colab_type": "text"
      },
      "source": [
        "<a href=\"https://colab.research.google.com/github/riyash0109/MachineLearning/blob/main/MLP_OR_AND.ipynb\" target=\"_parent\"><img src=\"https://colab.research.google.com/assets/colab-badge.svg\" alt=\"Open In Colab\"/></a>"
      ]
    },
    {
      "cell_type": "code",
      "execution_count": null,
      "metadata": {
        "colab": {
          "base_uri": "https://localhost:8080/"
        },
        "id": "2PM76KSRICh2",
        "outputId": "d9d2567d-623b-4bc0-95f8-ad8d20d980fb"
      },
      "outputs": [
        {
          "output_type": "stream",
          "name": "stdout",
          "text": [
            "AND\n",
            "0\n",
            "0\n",
            "0\n",
            "1\n",
            "\n",
            "OR\n",
            "0\n",
            "1\n",
            "1\n",
            "1\n",
            "\n",
            "NOT\n"
          ]
        }
      ],
      "source": [
        "#simple perceptron\n",
        "\n",
        "import numpy as np\n",
        "\n",
        "class Perceptron:\n",
        "\n",
        "\tdef __init__(self, no_inputs, inputs, labels, bias=-2, epochs=10, l_rate=0.1):\n",
        "\t\tself.inputs = inputs\n",
        "\t\tself.labeled_outputs = labels\n",
        "\t\tself.bias = bias\n",
        "\t\tself.epochs = epochs\n",
        "\t\tself.l_rate = l_rate\n",
        "\t\tself.weights = np.random.rand(1, no_inputs) # randomnumbers from 0 to 1\n",
        "\n",
        "\t#predict the output based on the dot product of weights to input\n",
        "\tdef predict(self, each_input):\n",
        "\t\t#print(self.weights[:])\n",
        "\t\t#print(each_input)\n",
        "\t\treturn np.dot(self.weights[:], each_input) + self.bias\n",
        "\n",
        "\t#step function\n",
        "\tdef activation(self, inp):\n",
        "\t\tprediction = self.predict(inp)\n",
        "\t\tif prediction > 0:\n",
        "\t\t\toutput = 1\n",
        "\t\telse:\n",
        "\t\t\toutput = 0\n",
        "\t\treturn output\n",
        "\n",
        "\t#train the perceptron!\n",
        "\tdef train(self):\n",
        "\t\tfor cycle in range(self.epochs):\n",
        "\t\t\t#print(\"SUPER\",self.inputs)\n",
        "\t\t\tfor each_inp, each_out in zip(self.inputs, self.labeled_outputs):\n",
        "\t\t\t\t#print(\"HELLOO\", each_inp)\n",
        "\t\t\t\t#prediction = self.predict(each_inp)\n",
        "\t\t\t\t\n",
        "\t\t\t\tself.weights[:] += self.l_rate * (each_out - self.activation(each_inp)) * each_inp\n",
        "\n",
        "\n",
        "\n",
        "INPUTS = np.array([[0,0], [1,0], [0,1], [1,1]])\n",
        "\n",
        "AND_OUTPUTS = [0,0,0,1]\n",
        "\n",
        "OR_OUTPUTS = [0,1,1,1]\n",
        "\n",
        "\n",
        "NOT_INPUTS = np.array([ [0], [1] ])\n",
        "\n",
        "NOT_OUTPUTS = np.array([[1], [0]])\n",
        "\n",
        "\n",
        "\n",
        "\n",
        "def test_all_inputs(no_inputs, inputs, output_labels, bias=-2):\n",
        "\tperceptron = Perceptron(no_inputs, inputs, output_labels, bias)\n",
        "\tperceptron.train()\n",
        "\n",
        "\tfor each in INPUTS:\n",
        "\t\tprint(perceptron.activation(each))\n",
        "\n",
        "print(\"AND\")\n",
        "test_all_inputs(2, INPUTS, AND_OUTPUTS)\n",
        "\n",
        "\n",
        "print(\"\\nOR\")\n",
        "test_all_inputs(2, INPUTS, OR_OUTPUTS, -1)\n",
        "\n",
        "\n",
        "print(\"\\nNOT\")\n",
        "#test_all_inputs(1, NOT_INPUTS, NOT_OUTPUTS, -1)"
      ]
    },
    {
      "cell_type": "code",
      "source": [],
      "metadata": {
        "id": "_Lfx-VFJIDEw"
      },
      "execution_count": null,
      "outputs": []
    }
  ]
}